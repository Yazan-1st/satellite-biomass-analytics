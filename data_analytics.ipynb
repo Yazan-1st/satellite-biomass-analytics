{
 "cells": [
  {
   "cell_type": "code",
   "execution_count": 137,
   "metadata": {},
   "outputs": [],
   "source": [
    "import pandas as pd\n",
    "import numpy as np\n",
    "import matplotlib.pyplot as plt\n",
    "import seaborn as sns"
   ]
  },
  {
   "cell_type": "code",
   "execution_count": 138,
   "metadata": {},
   "outputs": [
    {
     "data": {
      "text/html": [
       "<div>\n",
       "<style scoped>\n",
       "    .dataframe tbody tr th:only-of-type {\n",
       "        vertical-align: middle;\n",
       "    }\n",
       "\n",
       "    .dataframe tbody tr th {\n",
       "        vertical-align: top;\n",
       "    }\n",
       "\n",
       "    .dataframe thead th {\n",
       "        text-align: right;\n",
       "    }\n",
       "</style>\n",
       "<table border=\"1\" class=\"dataframe\">\n",
       "  <thead>\n",
       "    <tr style=\"text-align: right;\">\n",
       "      <th></th>\n",
       "      <th>Date</th>\n",
       "      <th>DOY</th>\n",
       "      <th>Sample</th>\n",
       "      <th>Sub-Sample</th>\n",
       "      <th>Lat</th>\n",
       "      <th>Long_</th>\n",
       "      <th>Sample_type</th>\n",
       "      <th>Animals</th>\n",
       "      <th>DM</th>\n",
       "      <th>MM</th>\n",
       "      <th>Biomass</th>\n",
       "      <th>NDF</th>\n",
       "      <th>ADF</th>\n",
       "      <th>CP</th>\n",
       "      <th>TDN_based_ADF</th>\n",
       "      <th>TDN_based_NDF</th>\n",
       "      <th>Satellite_Images_Dates</th>\n",
       "      <th>B1</th>\n",
       "      <th>B2</th>\n",
       "      <th>B3</th>\n",
       "      <th>B4</th>\n",
       "      <th>B5</th>\n",
       "      <th>B6</th>\n",
       "      <th>B7</th>\n",
       "      <th>B8</th>\n",
       "      <th>B8A</th>\n",
       "      <th>B9</th>\n",
       "      <th>B11</th>\n",
       "      <th>B12</th>\n",
       "      <th>NDVI</th>\n",
       "      <th>NDWI</th>\n",
       "      <th>EVI</th>\n",
       "      <th>LAI</th>\n",
       "      <th>DVI</th>\n",
       "      <th>GCI</th>\n",
       "      <th>GEMI</th>\n",
       "      <th>SAVI</th>\n",
       "      <th>TEMP_MAX</th>\n",
       "      <th>TEMP_MIN</th>\n",
       "      <th>RAD_SOL</th>\n",
       "      <th>Rainfall</th>\n",
       "      <th>WIND_SPD</th>\n",
       "      <th>EVAPOT</th>\n",
       "      <th>PRES_ATM</th>\n",
       "      <th>HUM_REL</th>\n",
       "      <th>TP_SFC_AVG</th>\n",
       "      <th>Wind_Dir</th>\n",
       "      <th>Dew_Point</th>\n",
       "      <th>Radiative_Dif_AVG</th>\n",
       "      <th>Radiative_Direct_AVG</th>\n",
       "      <th>PPFD</th>\n",
       "      <th>Longwave_Rad_AVG</th>\n",
       "      <th>Environmental Suitability Index</th>\n",
       "    </tr>\n",
       "  </thead>\n",
       "  <tbody>\n",
       "    <tr>\n",
       "      <th>0</th>\n",
       "      <td>7/6/2022</td>\n",
       "      <td>187</td>\n",
       "      <td>1</td>\n",
       "      <td>1</td>\n",
       "      <td>-20.446717</td>\n",
       "      <td>-54.839505</td>\n",
       "      <td>Q1</td>\n",
       "      <td>1</td>\n",
       "      <td>54.177195</td>\n",
       "      <td>6.869019</td>\n",
       "      <td>2943.000000</td>\n",
       "      <td>79.722130</td>\n",
       "      <td>52.504546</td>\n",
       "      <td>4.632363</td>\n",
       "      <td>47.998959</td>\n",
       "      <td>50.537899</td>\n",
       "      <td>44744</td>\n",
       "      <td>1325</td>\n",
       "      <td>1456</td>\n",
       "      <td>1710</td>\n",
       "      <td>2012</td>\n",
       "      <td>2427</td>\n",
       "      <td>2952</td>\n",
       "      <td>3147</td>\n",
       "      <td>3171</td>\n",
       "      <td>3272</td>\n",
       "      <td>3280</td>\n",
       "      <td>3499</td>\n",
       "      <td>2919</td>\n",
       "      <td>0.223616</td>\n",
       "      <td>-0.033525</td>\n",
       "      <td>0.160974</td>\n",
       "      <td>0.464404</td>\n",
       "      <td>1159</td>\n",
       "      <td>0.854386</td>\n",
       "      <td>-1341990.624</td>\n",
       "      <td>0.335391</td>\n",
       "      <td>30.7</td>\n",
       "      <td>19.2</td>\n",
       "      <td>16.17</td>\n",
       "      <td>0.0</td>\n",
       "      <td>21.8</td>\n",
       "      <td>4.95</td>\n",
       "      <td>1014.941667</td>\n",
       "      <td>47.458333</td>\n",
       "      <td>23.187826</td>\n",
       "      <td>119.917171</td>\n",
       "      <td>8.584028</td>\n",
       "      <td>160.617416</td>\n",
       "      <td>7.444173</td>\n",
       "      <td>358.837504</td>\n",
       "      <td>344.212487</td>\n",
       "      <td>3.209516</td>\n",
       "    </tr>\n",
       "    <tr>\n",
       "      <th>1</th>\n",
       "      <td>7/6/2022</td>\n",
       "      <td>187</td>\n",
       "      <td>1</td>\n",
       "      <td>2</td>\n",
       "      <td>-20.446717</td>\n",
       "      <td>-54.839505</td>\n",
       "      <td>Q1</td>\n",
       "      <td>1</td>\n",
       "      <td>54.177058</td>\n",
       "      <td>6.835684</td>\n",
       "      <td>2943.000000</td>\n",
       "      <td>70.663844</td>\n",
       "      <td>46.794328</td>\n",
       "      <td>4.811976</td>\n",
       "      <td>52.447219</td>\n",
       "      <td>54.316111</td>\n",
       "      <td>44744</td>\n",
       "      <td>1325</td>\n",
       "      <td>1456</td>\n",
       "      <td>1710</td>\n",
       "      <td>2012</td>\n",
       "      <td>2427</td>\n",
       "      <td>2952</td>\n",
       "      <td>3147</td>\n",
       "      <td>3171</td>\n",
       "      <td>3272</td>\n",
       "      <td>3280</td>\n",
       "      <td>3499</td>\n",
       "      <td>2919</td>\n",
       "      <td>0.223616</td>\n",
       "      <td>-0.033525</td>\n",
       "      <td>0.160974</td>\n",
       "      <td>0.464404</td>\n",
       "      <td>1159</td>\n",
       "      <td>0.854386</td>\n",
       "      <td>-1341990.624</td>\n",
       "      <td>0.335391</td>\n",
       "      <td>30.7</td>\n",
       "      <td>19.2</td>\n",
       "      <td>16.17</td>\n",
       "      <td>0.0</td>\n",
       "      <td>21.8</td>\n",
       "      <td>4.95</td>\n",
       "      <td>1014.941667</td>\n",
       "      <td>47.458333</td>\n",
       "      <td>23.187826</td>\n",
       "      <td>119.917171</td>\n",
       "      <td>8.584028</td>\n",
       "      <td>160.617416</td>\n",
       "      <td>7.444173</td>\n",
       "      <td>358.837504</td>\n",
       "      <td>344.212487</td>\n",
       "      <td>5.109516</td>\n",
       "    </tr>\n",
       "    <tr>\n",
       "      <th>2</th>\n",
       "      <td>7/6/2022</td>\n",
       "      <td>187</td>\n",
       "      <td>2</td>\n",
       "      <td>1</td>\n",
       "      <td>-20.446996</td>\n",
       "      <td>-54.838856</td>\n",
       "      <td>Q4</td>\n",
       "      <td>1</td>\n",
       "      <td>52.260843</td>\n",
       "      <td>5.125652</td>\n",
       "      <td>2855.333333</td>\n",
       "      <td>79.330072</td>\n",
       "      <td>50.323829</td>\n",
       "      <td>4.644871</td>\n",
       "      <td>49.697737</td>\n",
       "      <td>50.701427</td>\n",
       "      <td>44744</td>\n",
       "      <td>1358</td>\n",
       "      <td>1449</td>\n",
       "      <td>1703</td>\n",
       "      <td>2019</td>\n",
       "      <td>2435</td>\n",
       "      <td>2956</td>\n",
       "      <td>3096</td>\n",
       "      <td>3146</td>\n",
       "      <td>3303</td>\n",
       "      <td>3260</td>\n",
       "      <td>3415</td>\n",
       "      <td>2855</td>\n",
       "      <td>0.218199</td>\n",
       "      <td>-0.016672</td>\n",
       "      <td>0.156601</td>\n",
       "      <td>0.448582</td>\n",
       "      <td>1127</td>\n",
       "      <td>0.847328</td>\n",
       "      <td>-1268877.255</td>\n",
       "      <td>0.327267</td>\n",
       "      <td>30.7</td>\n",
       "      <td>19.2</td>\n",
       "      <td>16.17</td>\n",
       "      <td>0.0</td>\n",
       "      <td>21.8</td>\n",
       "      <td>4.96</td>\n",
       "      <td>1014.941667</td>\n",
       "      <td>47.458333</td>\n",
       "      <td>23.187826</td>\n",
       "      <td>119.917171</td>\n",
       "      <td>8.584028</td>\n",
       "      <td>160.617416</td>\n",
       "      <td>7.444173</td>\n",
       "      <td>358.837504</td>\n",
       "      <td>344.212487</td>\n",
       "      <td>3.506646</td>\n",
       "    </tr>\n",
       "    <tr>\n",
       "      <th>3</th>\n",
       "      <td>7/6/2022</td>\n",
       "      <td>187</td>\n",
       "      <td>2</td>\n",
       "      <td>2</td>\n",
       "      <td>-20.446996</td>\n",
       "      <td>-54.838856</td>\n",
       "      <td>Q4</td>\n",
       "      <td>1</td>\n",
       "      <td>52.285797</td>\n",
       "      <td>5.241126</td>\n",
       "      <td>2855.333333</td>\n",
       "      <td>73.021953</td>\n",
       "      <td>49.138437</td>\n",
       "      <td>4.647189</td>\n",
       "      <td>50.621158</td>\n",
       "      <td>53.332543</td>\n",
       "      <td>44744</td>\n",
       "      <td>1358</td>\n",
       "      <td>1449</td>\n",
       "      <td>1703</td>\n",
       "      <td>2019</td>\n",
       "      <td>2435</td>\n",
       "      <td>2956</td>\n",
       "      <td>3096</td>\n",
       "      <td>3146</td>\n",
       "      <td>3303</td>\n",
       "      <td>3260</td>\n",
       "      <td>3415</td>\n",
       "      <td>2855</td>\n",
       "      <td>0.218199</td>\n",
       "      <td>-0.016672</td>\n",
       "      <td>0.156601</td>\n",
       "      <td>0.448582</td>\n",
       "      <td>1127</td>\n",
       "      <td>0.847328</td>\n",
       "      <td>-1268877.255</td>\n",
       "      <td>0.327267</td>\n",
       "      <td>30.7</td>\n",
       "      <td>19.2</td>\n",
       "      <td>16.17</td>\n",
       "      <td>0.0</td>\n",
       "      <td>21.8</td>\n",
       "      <td>4.96</td>\n",
       "      <td>1014.941667</td>\n",
       "      <td>47.458333</td>\n",
       "      <td>23.187826</td>\n",
       "      <td>119.917171</td>\n",
       "      <td>8.584028</td>\n",
       "      <td>160.617416</td>\n",
       "      <td>7.444173</td>\n",
       "      <td>358.837504</td>\n",
       "      <td>344.212487</td>\n",
       "      <td>4.606646</td>\n",
       "    </tr>\n",
       "    <tr>\n",
       "      <th>4</th>\n",
       "      <td>7/6/2022</td>\n",
       "      <td>187</td>\n",
       "      <td>3</td>\n",
       "      <td>1</td>\n",
       "      <td>-20.446424</td>\n",
       "      <td>-54.839246</td>\n",
       "      <td>G2</td>\n",
       "      <td>1</td>\n",
       "      <td>49.984466</td>\n",
       "      <td>4.742429</td>\n",
       "      <td>3058.666667</td>\n",
       "      <td>74.705529</td>\n",
       "      <td>53.632386</td>\n",
       "      <td>5.006476</td>\n",
       "      <td>47.120371</td>\n",
       "      <td>52.630324</td>\n",
       "      <td>44744</td>\n",
       "      <td>1318</td>\n",
       "      <td>1422</td>\n",
       "      <td>1664</td>\n",
       "      <td>1986</td>\n",
       "      <td>2381</td>\n",
       "      <td>2861</td>\n",
       "      <td>3025</td>\n",
       "      <td>3060</td>\n",
       "      <td>3156</td>\n",
       "      <td>3194</td>\n",
       "      <td>3323</td>\n",
       "      <td>2834</td>\n",
       "      <td>0.212842</td>\n",
       "      <td>-0.025776</td>\n",
       "      <td>0.150619</td>\n",
       "      <td>0.426941</td>\n",
       "      <td>1074</td>\n",
       "      <td>0.838942</td>\n",
       "      <td>-1152285.914</td>\n",
       "      <td>0.319231</td>\n",
       "      <td>30.7</td>\n",
       "      <td>19.2</td>\n",
       "      <td>16.17</td>\n",
       "      <td>0.0</td>\n",
       "      <td>21.8</td>\n",
       "      <td>4.96</td>\n",
       "      <td>1014.941667</td>\n",
       "      <td>47.458333</td>\n",
       "      <td>23.187826</td>\n",
       "      <td>119.917171</td>\n",
       "      <td>8.584028</td>\n",
       "      <td>160.617416</td>\n",
       "      <td>7.444173</td>\n",
       "      <td>358.837504</td>\n",
       "      <td>344.212487</td>\n",
       "      <td>3.703806</td>\n",
       "    </tr>\n",
       "  </tbody>\n",
       "</table>\n",
       "</div>"
      ],
      "text/plain": [
       "       Date  DOY  Sample  Sub-Sample        Lat      Long_ Sample_type  \\\n",
       "0  7/6/2022  187       1           1 -20.446717 -54.839505          Q1   \n",
       "1  7/6/2022  187       1           2 -20.446717 -54.839505          Q1   \n",
       "2  7/6/2022  187       2           1 -20.446996 -54.838856          Q4   \n",
       "3  7/6/2022  187       2           2 -20.446996 -54.838856          Q4   \n",
       "4  7/6/2022  187       3           1 -20.446424 -54.839246          G2   \n",
       "\n",
       "   Animals         DM        MM      Biomass        NDF        ADF        CP  \\\n",
       "0        1  54.177195  6.869019  2943.000000  79.722130  52.504546  4.632363   \n",
       "1        1  54.177058  6.835684  2943.000000  70.663844  46.794328  4.811976   \n",
       "2        1  52.260843  5.125652  2855.333333  79.330072  50.323829  4.644871   \n",
       "3        1  52.285797  5.241126  2855.333333  73.021953  49.138437  4.647189   \n",
       "4        1  49.984466  4.742429  3058.666667  74.705529  53.632386  5.006476   \n",
       "\n",
       "   TDN_based_ADF  TDN_based_NDF  Satellite_Images_Dates    B1    B2    B3  \\\n",
       "0      47.998959      50.537899                   44744  1325  1456  1710   \n",
       "1      52.447219      54.316111                   44744  1325  1456  1710   \n",
       "2      49.697737      50.701427                   44744  1358  1449  1703   \n",
       "3      50.621158      53.332543                   44744  1358  1449  1703   \n",
       "4      47.120371      52.630324                   44744  1318  1422  1664   \n",
       "\n",
       "     B4    B5    B6    B7    B8   B8A    B9   B11   B12      NDVI      NDWI  \\\n",
       "0  2012  2427  2952  3147  3171  3272  3280  3499  2919  0.223616 -0.033525   \n",
       "1  2012  2427  2952  3147  3171  3272  3280  3499  2919  0.223616 -0.033525   \n",
       "2  2019  2435  2956  3096  3146  3303  3260  3415  2855  0.218199 -0.016672   \n",
       "3  2019  2435  2956  3096  3146  3303  3260  3415  2855  0.218199 -0.016672   \n",
       "4  1986  2381  2861  3025  3060  3156  3194  3323  2834  0.212842 -0.025776   \n",
       "\n",
       "        EVI       LAI   DVI       GCI         GEMI      SAVI  TEMP_MAX  \\\n",
       "0  0.160974  0.464404  1159  0.854386 -1341990.624  0.335391      30.7   \n",
       "1  0.160974  0.464404  1159  0.854386 -1341990.624  0.335391      30.7   \n",
       "2  0.156601  0.448582  1127  0.847328 -1268877.255  0.327267      30.7   \n",
       "3  0.156601  0.448582  1127  0.847328 -1268877.255  0.327267      30.7   \n",
       "4  0.150619  0.426941  1074  0.838942 -1152285.914  0.319231      30.7   \n",
       "\n",
       "   TEMP_MIN  RAD_SOL  Rainfall  WIND_SPD  EVAPOT     PRES_ATM    HUM_REL  \\\n",
       "0      19.2    16.17       0.0      21.8    4.95  1014.941667  47.458333   \n",
       "1      19.2    16.17       0.0      21.8    4.95  1014.941667  47.458333   \n",
       "2      19.2    16.17       0.0      21.8    4.96  1014.941667  47.458333   \n",
       "3      19.2    16.17       0.0      21.8    4.96  1014.941667  47.458333   \n",
       "4      19.2    16.17       0.0      21.8    4.96  1014.941667  47.458333   \n",
       "\n",
       "   TP_SFC_AVG    Wind_Dir  Dew_Point  Radiative_Dif_AVG  Radiative_Direct_AVG  \\\n",
       "0   23.187826  119.917171   8.584028         160.617416              7.444173   \n",
       "1   23.187826  119.917171   8.584028         160.617416              7.444173   \n",
       "2   23.187826  119.917171   8.584028         160.617416              7.444173   \n",
       "3   23.187826  119.917171   8.584028         160.617416              7.444173   \n",
       "4   23.187826  119.917171   8.584028         160.617416              7.444173   \n",
       "\n",
       "         PPFD  Longwave_Rad_AVG  Environmental Suitability Index  \n",
       "0  358.837504        344.212487                         3.209516  \n",
       "1  358.837504        344.212487                         5.109516  \n",
       "2  358.837504        344.212487                         3.506646  \n",
       "3  358.837504        344.212487                         4.606646  \n",
       "4  358.837504        344.212487                         3.703806  "
      ]
     },
     "execution_count": 138,
     "metadata": {},
     "output_type": "execute_result"
    }
   ],
   "source": [
    "# setting no lomit for the max columns to display, for easier investigation \n",
    "pd.options.display.max_columns = None\n",
    "\n",
    "df = pd.read_csv('Complete_Dataset_updated.csv')\n",
    "df.head()"
   ]
  },
  {
   "cell_type": "code",
   "execution_count": 139,
   "metadata": {},
   "outputs": [
    {
     "data": {
      "text/plain": [
       "np.int64(0)"
      ]
     },
     "execution_count": 139,
     "metadata": {},
     "output_type": "execute_result"
    }
   ],
   "source": [
    "df.isna().sum().sum()"
   ]
  },
  {
   "cell_type": "code",
   "execution_count": 140,
   "metadata": {},
   "outputs": [
    {
     "data": {
      "text/html": [
       "<div>\n",
       "<style scoped>\n",
       "    .dataframe tbody tr th:only-of-type {\n",
       "        vertical-align: middle;\n",
       "    }\n",
       "\n",
       "    .dataframe tbody tr th {\n",
       "        vertical-align: top;\n",
       "    }\n",
       "\n",
       "    .dataframe thead th {\n",
       "        text-align: right;\n",
       "    }\n",
       "</style>\n",
       "<table border=\"1\" class=\"dataframe\">\n",
       "  <thead>\n",
       "    <tr style=\"text-align: right;\">\n",
       "      <th></th>\n",
       "      <th>Date</th>\n",
       "      <th>Satellite_Images_Dates</th>\n",
       "    </tr>\n",
       "  </thead>\n",
       "  <tbody>\n",
       "    <tr>\n",
       "      <th>0</th>\n",
       "      <td>2022-07-06</td>\n",
       "      <td>2022-07-02</td>\n",
       "    </tr>\n",
       "    <tr>\n",
       "      <th>1</th>\n",
       "      <td>2022-07-06</td>\n",
       "      <td>2022-07-02</td>\n",
       "    </tr>\n",
       "    <tr>\n",
       "      <th>2</th>\n",
       "      <td>2022-07-06</td>\n",
       "      <td>2022-07-02</td>\n",
       "    </tr>\n",
       "    <tr>\n",
       "      <th>3</th>\n",
       "      <td>2022-07-06</td>\n",
       "      <td>2022-07-02</td>\n",
       "    </tr>\n",
       "    <tr>\n",
       "      <th>4</th>\n",
       "      <td>2022-07-06</td>\n",
       "      <td>2022-07-02</td>\n",
       "    </tr>\n",
       "    <tr>\n",
       "      <th>...</th>\n",
       "      <td>...</td>\n",
       "      <td>...</td>\n",
       "    </tr>\n",
       "    <tr>\n",
       "      <th>307</th>\n",
       "      <td>2023-03-01</td>\n",
       "      <td>2023-02-27</td>\n",
       "    </tr>\n",
       "    <tr>\n",
       "      <th>308</th>\n",
       "      <td>2023-03-01</td>\n",
       "      <td>2023-02-27</td>\n",
       "    </tr>\n",
       "    <tr>\n",
       "      <th>309</th>\n",
       "      <td>2023-03-01</td>\n",
       "      <td>2023-02-27</td>\n",
       "    </tr>\n",
       "    <tr>\n",
       "      <th>310</th>\n",
       "      <td>2023-03-01</td>\n",
       "      <td>2023-02-27</td>\n",
       "    </tr>\n",
       "    <tr>\n",
       "      <th>311</th>\n",
       "      <td>2023-03-01</td>\n",
       "      <td>2023-02-27</td>\n",
       "    </tr>\n",
       "  </tbody>\n",
       "</table>\n",
       "<p>312 rows × 2 columns</p>\n",
       "</div>"
      ],
      "text/plain": [
       "          Date Satellite_Images_Dates\n",
       "0   2022-07-06             2022-07-02\n",
       "1   2022-07-06             2022-07-02\n",
       "2   2022-07-06             2022-07-02\n",
       "3   2022-07-06             2022-07-02\n",
       "4   2022-07-06             2022-07-02\n",
       "..         ...                    ...\n",
       "307 2023-03-01             2023-02-27\n",
       "308 2023-03-01             2023-02-27\n",
       "309 2023-03-01             2023-02-27\n",
       "310 2023-03-01             2023-02-27\n",
       "311 2023-03-01             2023-02-27\n",
       "\n",
       "[312 rows x 2 columns]"
      ]
     },
     "execution_count": 140,
     "metadata": {},
     "output_type": "execute_result"
    }
   ],
   "source": [
    "df['Date'] = pd.to_datetime(df['Date'])\n",
    "\n",
    "# the dates are in Excel date format, so we need to turn into datetime objects\n",
    "df['Satellite_Images_Dates'] = pd.to_datetime(df['Satellite_Images_Dates'], origin='1899-12-30', unit='D')\n",
    "\n",
    "df['Satellite_Images_Dates'] = df['Satellite_Images_Dates'].dt.strftime('%Y-%m-%d')\n",
    "df[['Date', 'Satellite_Images_Dates']]"
   ]
  },
  {
   "cell_type": "markdown",
   "metadata": {},
   "source": [
    "# Descriptive Statistics"
   ]
  },
  {
   "cell_type": "markdown",
   "metadata": {},
   "source": [
    "### Measures of Frequency"
   ]
  },
  {
   "cell_type": "code",
   "execution_count": 141,
   "metadata": {},
   "outputs": [
    {
     "data": {
      "text/plain": [
       "Sample_type\n",
       "Q1    42\n",
       "Q4    42\n",
       "Q3    42\n",
       "S1    42\n",
       "S2    42\n",
       "Q2    40\n",
       "G1    20\n",
       "G2    18\n",
       "G3    12\n",
       "G4    12\n",
       "Name: count, dtype: int64"
      ]
     },
     "execution_count": 141,
     "metadata": {},
     "output_type": "execute_result"
    }
   ],
   "source": [
    "df['Sample_type'].value_counts()"
   ]
  },
  {
   "cell_type": "code",
   "execution_count": 142,
   "metadata": {},
   "outputs": [
    {
     "data": {
      "text/plain": [
       "Rainfall\n",
       "0.0     174\n",
       "0.4     212\n",
       "2.0     232\n",
       "0.8     248\n",
       "0.6     264\n",
       "3.3     276\n",
       "18.4    288\n",
       "2.9     300\n",
       "2.5     312\n",
       "Name: count, dtype: int64"
      ]
     },
     "execution_count": 142,
     "metadata": {},
     "output_type": "execute_result"
    }
   ],
   "source": [
    "# commulative sum of the rainfall values\n",
    "df['Rainfall'].value_counts().cumsum()"
   ]
  },
  {
   "cell_type": "code",
   "execution_count": 143,
   "metadata": {},
   "outputs": [
    {
     "data": {
      "text/plain": [
       "DOY\n",
       "125    20\n",
       "307    20\n",
       "96     20\n",
       "215    18\n",
       "286    18\n",
       "342    18\n",
       "13     16\n",
       "153    16\n",
       "187    16\n",
       "40     16\n",
       "251    14\n",
       "138    12\n",
       "202    12\n",
       "236    12\n",
       "173    12\n",
       "110    12\n",
       "320    12\n",
       "348    12\n",
       "333    12\n",
       "26     12\n",
       "60     12\n",
       "Name: count, dtype: int64"
      ]
     },
     "execution_count": 143,
     "metadata": {},
     "output_type": "execute_result"
    }
   ],
   "source": [
    "df['DOY'].value_counts()"
   ]
  },
  {
   "cell_type": "code",
   "execution_count": 144,
   "metadata": {},
   "outputs": [
    {
     "data": {
      "text/plain": [
       "DOY\n",
       "125    0.064103\n",
       "307    0.064103\n",
       "96     0.064103\n",
       "215    0.057692\n",
       "286    0.057692\n",
       "342    0.057692\n",
       "13     0.051282\n",
       "153    0.051282\n",
       "187    0.051282\n",
       "40     0.051282\n",
       "251    0.044872\n",
       "138    0.038462\n",
       "202    0.038462\n",
       "236    0.038462\n",
       "173    0.038462\n",
       "110    0.038462\n",
       "320    0.038462\n",
       "348    0.038462\n",
       "333    0.038462\n",
       "26     0.038462\n",
       "60     0.038462\n",
       "Name: count, dtype: float64"
      ]
     },
     "execution_count": 144,
     "metadata": {},
     "output_type": "execute_result"
    }
   ],
   "source": [
    "# relative frequency of DOY\n",
    "relative_freq_doy = df['DOY'].value_counts() / len(df)\n",
    "relative_freq_doy"
   ]
  },
  {
   "cell_type": "code",
   "execution_count": 153,
   "metadata": {},
   "outputs": [
    {
     "data": {
      "text/html": [
       "<div>\n",
       "<style scoped>\n",
       "    .dataframe tbody tr th:only-of-type {\n",
       "        vertical-align: middle;\n",
       "    }\n",
       "\n",
       "    .dataframe tbody tr th {\n",
       "        vertical-align: top;\n",
       "    }\n",
       "\n",
       "    .dataframe thead th {\n",
       "        text-align: right;\n",
       "    }\n",
       "</style>\n",
       "<table border=\"1\" class=\"dataframe\">\n",
       "  <thead>\n",
       "    <tr style=\"text-align: right;\">\n",
       "      <th></th>\n",
       "      <th>Date</th>\n",
       "      <th>Total Rainfall</th>\n",
       "    </tr>\n",
       "  </thead>\n",
       "  <tbody>\n",
       "    <tr>\n",
       "      <th>0</th>\n",
       "      <td>2022-04-06</td>\n",
       "      <td>40.0</td>\n",
       "    </tr>\n",
       "    <tr>\n",
       "      <th>1</th>\n",
       "      <td>2022-04-20</td>\n",
       "      <td>0.0</td>\n",
       "    </tr>\n",
       "    <tr>\n",
       "      <th>2</th>\n",
       "      <td>2022-05-05</td>\n",
       "      <td>0.0</td>\n",
       "    </tr>\n",
       "    <tr>\n",
       "      <th>3</th>\n",
       "      <td>2022-05-18</td>\n",
       "      <td>0.0</td>\n",
       "    </tr>\n",
       "    <tr>\n",
       "      <th>4</th>\n",
       "      <td>2022-06-02</td>\n",
       "      <td>0.0</td>\n",
       "    </tr>\n",
       "    <tr>\n",
       "      <th>5</th>\n",
       "      <td>2022-06-22</td>\n",
       "      <td>220.8</td>\n",
       "    </tr>\n",
       "    <tr>\n",
       "      <th>6</th>\n",
       "      <td>2022-07-06</td>\n",
       "      <td>0.0</td>\n",
       "    </tr>\n",
       "    <tr>\n",
       "      <th>7</th>\n",
       "      <td>2022-07-21</td>\n",
       "      <td>0.0</td>\n",
       "    </tr>\n",
       "    <tr>\n",
       "      <th>8</th>\n",
       "      <td>2022-08-03</td>\n",
       "      <td>0.0</td>\n",
       "    </tr>\n",
       "    <tr>\n",
       "      <th>9</th>\n",
       "      <td>2022-08-24</td>\n",
       "      <td>0.0</td>\n",
       "    </tr>\n",
       "    <tr>\n",
       "      <th>10</th>\n",
       "      <td>2022-09-08</td>\n",
       "      <td>0.0</td>\n",
       "    </tr>\n",
       "    <tr>\n",
       "      <th>11</th>\n",
       "      <td>2022-10-13</td>\n",
       "      <td>0.0</td>\n",
       "    </tr>\n",
       "    <tr>\n",
       "      <th>12</th>\n",
       "      <td>2022-11-03</td>\n",
       "      <td>8.0</td>\n",
       "    </tr>\n",
       "    <tr>\n",
       "      <th>13</th>\n",
       "      <td>2022-11-16</td>\n",
       "      <td>0.0</td>\n",
       "    </tr>\n",
       "    <tr>\n",
       "      <th>14</th>\n",
       "      <td>2022-11-29</td>\n",
       "      <td>0.0</td>\n",
       "    </tr>\n",
       "    <tr>\n",
       "      <th>15</th>\n",
       "      <td>2022-12-08</td>\n",
       "      <td>7.2</td>\n",
       "    </tr>\n",
       "    <tr>\n",
       "      <th>16</th>\n",
       "      <td>2022-12-14</td>\n",
       "      <td>39.6</td>\n",
       "    </tr>\n",
       "    <tr>\n",
       "      <th>17</th>\n",
       "      <td>2023-01-13</td>\n",
       "      <td>9.6</td>\n",
       "    </tr>\n",
       "    <tr>\n",
       "      <th>18</th>\n",
       "      <td>2023-01-26</td>\n",
       "      <td>34.8</td>\n",
       "    </tr>\n",
       "    <tr>\n",
       "      <th>19</th>\n",
       "      <td>2023-02-09</td>\n",
       "      <td>12.8</td>\n",
       "    </tr>\n",
       "    <tr>\n",
       "      <th>20</th>\n",
       "      <td>2023-03-01</td>\n",
       "      <td>30.0</td>\n",
       "    </tr>\n",
       "  </tbody>\n",
       "</table>\n",
       "</div>"
      ],
      "text/plain": [
       "         Date  Total Rainfall\n",
       "0  2022-04-06            40.0\n",
       "1  2022-04-20             0.0\n",
       "2  2022-05-05             0.0\n",
       "3  2022-05-18             0.0\n",
       "4  2022-06-02             0.0\n",
       "5  2022-06-22           220.8\n",
       "6  2022-07-06             0.0\n",
       "7  2022-07-21             0.0\n",
       "8  2022-08-03             0.0\n",
       "9  2022-08-24             0.0\n",
       "10 2022-09-08             0.0\n",
       "11 2022-10-13             0.0\n",
       "12 2022-11-03             8.0\n",
       "13 2022-11-16             0.0\n",
       "14 2022-11-29             0.0\n",
       "15 2022-12-08             7.2\n",
       "16 2022-12-14            39.6\n",
       "17 2023-01-13             9.6\n",
       "18 2023-01-26            34.8\n",
       "19 2023-02-09            12.8\n",
       "20 2023-03-01            30.0"
      ]
     },
     "execution_count": 153,
     "metadata": {},
     "output_type": "execute_result"
    }
   ],
   "source": [
    "grouped_date_rainfall = df.groupby('Date')['Rainfall'].sum().reset_index() # reset_index() to turn the groupby object into a DataFrame\n",
    "grouped_date_rainfall.columns = ['Date', 'Total Rainfall']\n",
    "grouped_date_rainfall"
   ]
  },
  {
   "cell_type": "code",
   "execution_count": 146,
   "metadata": {},
   "outputs": [
    {
     "data": {
      "image/png": "[encoded data removed]",
      "text/plain": [
       "<Figure size 1200x500 with 1 Axes>"
      ]
     },
     "metadata": {},
     "output_type": "display_data"
    }
   ],
   "source": [
    "plt.figure(figsize=(12, 5))\n",
    "plt.plot(grouped_date_rainfall['Date'], grouped_date_rainfall['Total Rainfall'])\n",
    "plt.xlabel('Date')\n",
    "plt.ylabel('Total Rainfall')\n",
    "plt.title('Total Rainfall per Date')\n",
    "plt.xticks(rotation=45)\n",
    "plt.show()"
   ]
  },
  {
   "cell_type": "code",
   "execution_count": 147,
   "metadata": {},
   "outputs": [
    {
     "data": {
      "image/png": "[encoded data removed]",
      "text/plain": [
       "<Figure size 640x480 with 1 Axes>"
      ]
     },
     "metadata": {},
     "output_type": "display_data"
    }
   ],
   "source": [
    "df['DM'].plot(kind='hist')\n",
    "plt.show()"
   ]
  },
  {
   "cell_type": "code",
   "execution_count": 148,
   "metadata": {},
   "outputs": [
    {
     "data": {
      "image/png": "[encoded data removed]",
      "text/plain": [
       "<Figure size 2000x1500 with 12 Axes>"
      ]
     },
     "metadata": {},
     "output_type": "display_data"
    }
   ],
   "source": [
    "# analysis of Eleven multispectral bands from sentinel-2 \n",
    "bands = ['B1', 'B2', 'B3', 'B4', 'B5', 'B6', 'B7', 'B8', 'B8A', 'B9', 'B11', 'B12']\n",
    "# colors for each band\n",
    "colors = {\n",
    "    'B1': '#1f77b4',  # Coastal and Aerosol Band (Blue)\n",
    "    'B2': '#1f77b4',  # Blue Band\n",
    "    'B3': '#2ca02c',  # Green Band\n",
    "    'B4': '#d62728',  # Red Band\n",
    "    'B5': '#9467bd',  # Visible and Near Infrared (NIR) Band\n",
    "    'B6': '#8c564b',  # Red Edge Band\n",
    "    'B7': '#e377c2',  # Red Edge Band\n",
    "    'B8': '#7f7f7f',  # NIR Band\n",
    "    'B8A': '#bcbd22', # Narrow NIR Band\n",
    "    'B9': '#17becf',  # Water Vapour Band\n",
    "    'B11': '#ff7f0e', # Short Wave Infrared (SWIR) Band\n",
    "    'B12': '#ffbb78'  # Short Wave Infrared (SWIR) Band\n",
    "}\n",
    "fig, axs = plt.subplots(3, 4, figsize=(20, 15))\n",
    "\n",
    "for i, band in enumerate(bands):\n",
    "    row = i // 4\n",
    "    col = i % 4\n",
    "    axs[row, col].hist(df[band], bins=15, label=band, color=colors[band])\n",
    "    axs[row, col].set_title(band)\n",
    "    axs[row, col].set_xlabel('Band Frequency Value')\n",
    "    axs[row, col].set_ylabel('Frequency')\n",
    "    axs[row, col].legend()\n",
    "\n",
    "fig.suptitle('Histograms of Eleven multispectral bands from sentinel-2', fontsize=20)\n",
    "plt.tight_layout()\n",
    "plt.show()"
   ]
  },
  {
   "cell_type": "code",
   "execution_count": null,
   "metadata": {},
   "outputs": [],
   "source": []
  },
  {
   "cell_type": "markdown",
   "metadata": {},
   "source": [
    "### Measures of Central Tendency"
   ]
  },
  {
   "cell_type": "code",
   "execution_count": 149,
   "metadata": {},
   "outputs": [
    {
     "data": {
      "text/plain": [
       "DOY                                1.117707e+04\n",
       "Sample                             2.034437e+03\n",
       "Sub-Sample                         2.508039e-01\n",
       "Lat                                9.798142e-08\n",
       "Long_                              1.240211e-07\n",
       "Animals                            1.973782e-01\n",
       "DM                                 1.347535e+02\n",
       "MM                                 2.813881e+00\n",
       "Biomass                            1.075833e+07\n",
       "NDF                                8.245575e+01\n",
       "ADF                                4.717753e+01\n",
       "CP                                 7.648560e+00\n",
       "TDN_based_ADF                      2.862926e+01\n",
       "TDN_based_NDF                      1.434503e+01\n",
       "B1                                 1.401804e+05\n",
       "B2                                 1.118977e+05\n",
       "B3                                 7.821662e+04\n",
       "B4                                 1.230647e+05\n",
       "B5                                 1.000289e+05\n",
       "B6                                 2.035287e+05\n",
       "B7                                 2.561534e+05\n",
       "B8                                 2.411609e+05\n",
       "B8A                                2.754558e+05\n",
       "B9                                 6.050278e+05\n",
       "B11                                1.813106e+05\n",
       "B12                                1.720214e+05\n",
       "NDVI                               1.114516e-02\n",
       "NDWI                               5.085496e-03\n",
       "EVI                                7.717993e-03\n",
       "LAI                                1.010279e-01\n",
       "DVI                                3.905930e+05\n",
       "GCI                                9.388897e-02\n",
       "GEMI                               4.390254e+12\n",
       "SAVI                               2.507231e-02\n",
       "TEMP_MAX                           3.963269e+00\n",
       "TEMP_MIN                           6.580087e+00\n",
       "RAD_SOL                            2.172695e+01\n",
       "Rainfall                           1.270539e+01\n",
       "WIND_SPD                           1.438460e+01\n",
       "EVAPOT                             1.134601e+00\n",
       "PRES_ATM                           1.512065e+01\n",
       "HUM_REL                            1.673090e+02\n",
       "TP_SFC_AVG                         2.341121e+01\n",
       "Wind_Dir                           1.365995e+03\n",
       "Dew_Point                          2.629984e+01\n",
       "Radiative_Dif_AVG                  6.646957e+03\n",
       "Radiative_Direct_AVG               2.210225e+04\n",
       "PPFD                               3.632852e+04\n",
       "Longwave_Rad_AVG                   1.146896e+03\n",
       "Environmental Suitability Index    1.452814e+00\n",
       "dtype: float64"
      ]
     },
     "execution_count": 149,
     "metadata": {},
     "output_type": "execute_result"
    }
   ],
   "source": [
    "df.drop(['Date', 'Sample_type', 'Satellite_Images_Dates'], axis=1).var()"
   ]
  },
  {
   "cell_type": "markdown",
   "metadata": {},
   "source": [
    "### Measures of Dispersion"
   ]
  },
  {
   "cell_type": "code",
   "execution_count": null,
   "metadata": {},
   "outputs": [],
   "source": []
  },
  {
   "cell_type": "markdown",
   "metadata": {},
   "source": [
    "### Measures of Position"
   ]
  },
  {
   "cell_type": "code",
   "execution_count": null,
   "metadata": {},
   "outputs": [],
   "source": []
  },
  {
   "cell_type": "markdown",
   "metadata": {},
   "source": [
    "### Outlier Detection"
   ]
  },
  {
   "cell_type": "code",
   "execution_count": null,
   "metadata": {},
   "outputs": [],
   "source": []
  },
  {
   "cell_type": "markdown",
   "metadata": {},
   "source": [
    "### Insights"
   ]
  },
  {
   "cell_type": "markdown",
   "metadata": {},
   "source": [
    "lorem impsome "
   ]
  },
  {
   "cell_type": "markdown",
   "metadata": {},
   "source": [
    "### Relationships Between Features\n",
    "#### Contingency Table"
   ]
  },
  {
   "cell_type": "code",
   "execution_count": null,
   "metadata": {},
   "outputs": [],
   "source": []
  },
  {
   "cell_type": "markdown",
   "metadata": {},
   "source": [
    "### Visualizations"
   ]
  },
  {
   "cell_type": "code",
   "execution_count": null,
   "metadata": {},
   "outputs": [],
   "source": []
  },
  {
   "cell_type": "markdown",
   "metadata": {},
   "source": [
    "### Interpreting the Statistical and Visual Analyses"
   ]
  },
  {
   "cell_type": "code",
   "execution_count": null,
   "metadata": {},
   "outputs": [],
   "source": []
  },
  {
   "cell_type": "markdown",
   "metadata": {},
   "source": [
    "# Predictive Analytics"
   ]
  },
  {
   "cell_type": "markdown",
   "metadata": {},
   "source": [
    "### Feature Selection"
   ]
  },
  {
   "cell_type": "markdown",
   "metadata": {},
   "source": [
    "#### 1. First Technique"
   ]
  },
  {
   "cell_type": "code",
   "execution_count": null,
   "metadata": {},
   "outputs": [],
   "source": []
  },
  {
   "cell_type": "markdown",
   "metadata": {},
   "source": [
    "#### 2. Second Technique"
   ]
  },
  {
   "cell_type": "code",
   "execution_count": null,
   "metadata": {},
   "outputs": [],
   "source": []
  },
  {
   "cell_type": "markdown",
   "metadata": {},
   "source": [
    "#### 3. Third Technique"
   ]
  },
  {
   "cell_type": "code",
   "execution_count": null,
   "metadata": {},
   "outputs": [],
   "source": []
  },
  {
   "cell_type": "markdown",
   "metadata": {},
   "source": [
    "### Models Comparison"
   ]
  },
  {
   "cell_type": "code",
   "execution_count": 150,
   "metadata": {},
   "outputs": [],
   "source": [
    "# Mean Absolute Error (MAE)\n",
    "\n",
    "# R-squared (R²)"
   ]
  },
  {
   "cell_type": "markdown",
   "metadata": {},
   "source": [
    "Analyze which model provides the most accurate and reliable predictions for biomass production"
   ]
  },
  {
   "cell_type": "markdown",
   "metadata": {},
   "source": [
    "### Visiualizing Predicitve Analysis"
   ]
  },
  {
   "cell_type": "code",
   "execution_count": null,
   "metadata": {},
   "outputs": [],
   "source": []
  },
  {
   "cell_type": "markdown",
   "metadata": {},
   "source": [
    "# Perspective Analytics"
   ]
  },
  {
   "cell_type": "markdown",
   "metadata": {},
   "source": []
  }
 ],
 "metadata": {
  "kernelspec": {
   "display_name": "Python 3",
   "language": "python",
   "name": "python3"
  },
  "language_info": {
   "codemirror_mode": {
    "name": "ipython",
    "version": 3
   },
   "file_extension": ".py",
   "mimetype": "text/x-python",
   "name": "python",
   "nbconvert_exporter": "python",
   "pygments_lexer": "ipython3",
   "version": "3.13.0"
  }
 },
 "nbformat": 4,
 "nbformat_minor": 2
}
